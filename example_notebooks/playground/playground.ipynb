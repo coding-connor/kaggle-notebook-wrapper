{
 "cells": [
  {
   "cell_type": "code",
   "execution_count": null,
   "metadata": {
    "cell_id": 0
   },
   "outputs": [],
   "source": [
    "%pip install git+https://github.com/coding-connor/kaggle-notebook-wrapper.git"
   ]
  },
  {
   "cell_type": "code",
   "execution_count": null,
   "metadata": {
    "cell_id": 1
   },
   "outputs": [
    {
     "name": "stdout",
     "output_type": "stream",
     "text": [
      "2024-10-08 02:56:41,568 [cell_id: 1] This is a test log message.\n",
      "\n"
     ]
    }
   ],
   "source": [
    "from kaggle_notebook_wrapper import custom_logger\n",
    "\n",
    "log = custom_logger(__name__)\n",
    "\n",
    "log.info(\"This is a test log message.\")"
   ]
  },
  {
   "cell_type": "code",
   "execution_count": null,
   "metadata": {
    "cell_id": 2
   },
   "outputs": [
    {
     "name": "stdout",
     "output_type": "stream",
     "text": [
      "2024-10-08 02:56:41,583 [cell_id: 2] This is another test log message.\n",
      "\n"
     ]
    }
   ],
   "source": [
    "log.info(\"This is another test log message.\")"
   ]
  },
  {
   "cell_type": "code",
   "execution_count": null,
   "metadata": {
    "cell_id": 3
   },
   "outputs": [
    {
     "name": "stdout",
     "output_type": "stream",
     "text": [
      "2024-10-08 02:56:41,598 [cell_id: 3] This is a third test log message.\n",
      "\n"
     ]
    }
   ],
   "source": [
    "log.info(\"This is a third test log message.\")"
   ]
  }
 ],
 "metadata": {
  "kernelspec": {
   "display_name": "kaggle-notebook-wrapper-kvoojMVb-py3.11",
   "language": "python",
   "name": "python3"
  },
  "language_info": {
   "codemirror_mode": {
    "name": "ipython",
    "version": 3
   },
   "file_extension": ".py",
   "mimetype": "text/x-python",
   "name": "python",
   "nbconvert_exporter": "python",
   "pygments_lexer": "ipython3",
   "version": "3.11.6"
  }
 },
 "nbformat": 4,
 "nbformat_minor": 2
}

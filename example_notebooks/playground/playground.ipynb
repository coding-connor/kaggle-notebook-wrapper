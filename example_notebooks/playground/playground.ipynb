{
 "cells": [
  {
   "cell_type": "code",
   "execution_count": 2,
   "metadata": {
    "cell_id": 0
   },
   "outputs": [
    {
     "name": "stdout",
     "output_type": "stream",
     "text": [
      "Collecting git+https://github.com/coding-connor/kaggle-notebook-wrapper.git\n",
      "  Cloning https://github.com/coding-connor/kaggle-notebook-wrapper.git to /private/var/folders/0c/dlt_ky9d72dc7kghsg3dnl5c0000gn/T/pip-req-build-6uno3h04\n",
      "  Running command git clone --filter=blob:none --quiet https://github.com/coding-connor/kaggle-notebook-wrapper.git /private/var/folders/0c/dlt_ky9d72dc7kghsg3dnl5c0000gn/T/pip-req-build-6uno3h04\n",
      "  Resolved https://github.com/coding-connor/kaggle-notebook-wrapper.git to commit c7ce1fd433d25949f3c3837a7138c0c13eface4b\n",
      "  Installing build dependencies ... \u001b[?25ldone\n",
      "\u001b[?25h  Getting requirements to build wheel ... \u001b[?25ldone\n",
      "\u001b[?25h  Preparing metadata (pyproject.toml) ... \u001b[?25ldone\n",
      "\u001b[?25hRequirement already satisfied: kaggle<2.0.0,>=1.5.12 in /Users/connor/Library/Caches/pypoetry/virtualenvs/kaggle-notebook-wrapper-kvoojMVb-py3.11/lib/python3.11/site-packages (from kaggle-notebook-wrapper==0.1.0) (1.6.17)\n",
      "Requirement already satisfied: nbformat<6.0.0,>=5.1.3 in /Users/connor/Library/Caches/pypoetry/virtualenvs/kaggle-notebook-wrapper-kvoojMVb-py3.11/lib/python3.11/site-packages (from kaggle-notebook-wrapper==0.1.0) (5.10.4)\n",
      "Requirement already satisfied: six>=1.10 in /Users/connor/Library/Caches/pypoetry/virtualenvs/kaggle-notebook-wrapper-kvoojMVb-py3.11/lib/python3.11/site-packages (from kaggle<2.0.0,>=1.5.12->kaggle-notebook-wrapper==0.1.0) (1.16.0)\n",
      "Requirement already satisfied: certifi>=2023.7.22 in /Users/connor/Library/Caches/pypoetry/virtualenvs/kaggle-notebook-wrapper-kvoojMVb-py3.11/lib/python3.11/site-packages (from kaggle<2.0.0,>=1.5.12->kaggle-notebook-wrapper==0.1.0) (2024.8.30)\n",
      "Requirement already satisfied: python-dateutil in /Users/connor/Library/Caches/pypoetry/virtualenvs/kaggle-notebook-wrapper-kvoojMVb-py3.11/lib/python3.11/site-packages (from kaggle<2.0.0,>=1.5.12->kaggle-notebook-wrapper==0.1.0) (2.9.0.post0)\n",
      "Requirement already satisfied: requests in /Users/connor/Library/Caches/pypoetry/virtualenvs/kaggle-notebook-wrapper-kvoojMVb-py3.11/lib/python3.11/site-packages (from kaggle<2.0.0,>=1.5.12->kaggle-notebook-wrapper==0.1.0) (2.32.3)\n",
      "Requirement already satisfied: tqdm in /Users/connor/Library/Caches/pypoetry/virtualenvs/kaggle-notebook-wrapper-kvoojMVb-py3.11/lib/python3.11/site-packages (from kaggle<2.0.0,>=1.5.12->kaggle-notebook-wrapper==0.1.0) (4.66.5)\n",
      "Requirement already satisfied: python-slugify in /Users/connor/Library/Caches/pypoetry/virtualenvs/kaggle-notebook-wrapper-kvoojMVb-py3.11/lib/python3.11/site-packages (from kaggle<2.0.0,>=1.5.12->kaggle-notebook-wrapper==0.1.0) (8.0.4)\n",
      "Requirement already satisfied: urllib3 in /Users/connor/Library/Caches/pypoetry/virtualenvs/kaggle-notebook-wrapper-kvoojMVb-py3.11/lib/python3.11/site-packages (from kaggle<2.0.0,>=1.5.12->kaggle-notebook-wrapper==0.1.0) (2.2.3)\n",
      "Requirement already satisfied: bleach in /Users/connor/Library/Caches/pypoetry/virtualenvs/kaggle-notebook-wrapper-kvoojMVb-py3.11/lib/python3.11/site-packages (from kaggle<2.0.0,>=1.5.12->kaggle-notebook-wrapper==0.1.0) (6.1.0)\n",
      "Requirement already satisfied: fastjsonschema>=2.15 in /Users/connor/Library/Caches/pypoetry/virtualenvs/kaggle-notebook-wrapper-kvoojMVb-py3.11/lib/python3.11/site-packages (from nbformat<6.0.0,>=5.1.3->kaggle-notebook-wrapper==0.1.0) (2.20.0)\n",
      "Requirement already satisfied: jsonschema>=2.6 in /Users/connor/Library/Caches/pypoetry/virtualenvs/kaggle-notebook-wrapper-kvoojMVb-py3.11/lib/python3.11/site-packages (from nbformat<6.0.0,>=5.1.3->kaggle-notebook-wrapper==0.1.0) (4.23.0)\n",
      "Requirement already satisfied: jupyter-core!=5.0.*,>=4.12 in /Users/connor/Library/Caches/pypoetry/virtualenvs/kaggle-notebook-wrapper-kvoojMVb-py3.11/lib/python3.11/site-packages (from nbformat<6.0.0,>=5.1.3->kaggle-notebook-wrapper==0.1.0) (5.7.2)\n",
      "Requirement already satisfied: traitlets>=5.1 in /Users/connor/Library/Caches/pypoetry/virtualenvs/kaggle-notebook-wrapper-kvoojMVb-py3.11/lib/python3.11/site-packages (from nbformat<6.0.0,>=5.1.3->kaggle-notebook-wrapper==0.1.0) (5.14.3)\n",
      "Requirement already satisfied: attrs>=22.2.0 in /Users/connor/Library/Caches/pypoetry/virtualenvs/kaggle-notebook-wrapper-kvoojMVb-py3.11/lib/python3.11/site-packages (from jsonschema>=2.6->nbformat<6.0.0,>=5.1.3->kaggle-notebook-wrapper==0.1.0) (24.2.0)\n",
      "Requirement already satisfied: jsonschema-specifications>=2023.03.6 in /Users/connor/Library/Caches/pypoetry/virtualenvs/kaggle-notebook-wrapper-kvoojMVb-py3.11/lib/python3.11/site-packages (from jsonschema>=2.6->nbformat<6.0.0,>=5.1.3->kaggle-notebook-wrapper==0.1.0) (2023.12.1)\n",
      "Requirement already satisfied: referencing>=0.28.4 in /Users/connor/Library/Caches/pypoetry/virtualenvs/kaggle-notebook-wrapper-kvoojMVb-py3.11/lib/python3.11/site-packages (from jsonschema>=2.6->nbformat<6.0.0,>=5.1.3->kaggle-notebook-wrapper==0.1.0) (0.35.1)\n",
      "Requirement already satisfied: rpds-py>=0.7.1 in /Users/connor/Library/Caches/pypoetry/virtualenvs/kaggle-notebook-wrapper-kvoojMVb-py3.11/lib/python3.11/site-packages (from jsonschema>=2.6->nbformat<6.0.0,>=5.1.3->kaggle-notebook-wrapper==0.1.0) (0.20.0)\n",
      "Requirement already satisfied: platformdirs>=2.5 in /Users/connor/Library/Caches/pypoetry/virtualenvs/kaggle-notebook-wrapper-kvoojMVb-py3.11/lib/python3.11/site-packages (from jupyter-core!=5.0.*,>=4.12->nbformat<6.0.0,>=5.1.3->kaggle-notebook-wrapper==0.1.0) (4.3.6)\n",
      "Requirement already satisfied: webencodings in /Users/connor/Library/Caches/pypoetry/virtualenvs/kaggle-notebook-wrapper-kvoojMVb-py3.11/lib/python3.11/site-packages (from bleach->kaggle<2.0.0,>=1.5.12->kaggle-notebook-wrapper==0.1.0) (0.5.1)\n",
      "Requirement already satisfied: text-unidecode>=1.3 in /Users/connor/Library/Caches/pypoetry/virtualenvs/kaggle-notebook-wrapper-kvoojMVb-py3.11/lib/python3.11/site-packages (from python-slugify->kaggle<2.0.0,>=1.5.12->kaggle-notebook-wrapper==0.1.0) (1.3)\n",
      "Requirement already satisfied: charset-normalizer<4,>=2 in /Users/connor/Library/Caches/pypoetry/virtualenvs/kaggle-notebook-wrapper-kvoojMVb-py3.11/lib/python3.11/site-packages (from requests->kaggle<2.0.0,>=1.5.12->kaggle-notebook-wrapper==0.1.0) (3.3.2)\n",
      "Requirement already satisfied: idna<4,>=2.5 in /Users/connor/Library/Caches/pypoetry/virtualenvs/kaggle-notebook-wrapper-kvoojMVb-py3.11/lib/python3.11/site-packages (from requests->kaggle<2.0.0,>=1.5.12->kaggle-notebook-wrapper==0.1.0) (3.10)\n",
      "Building wheels for collected packages: kaggle-notebook-wrapper\n",
      "  Building wheel for kaggle-notebook-wrapper (pyproject.toml) ... \u001b[?25ldone\n",
      "\u001b[?25h  Created wheel for kaggle-notebook-wrapper: filename=kaggle_notebook_wrapper-0.1.0-py3-none-any.whl size=4694 sha256=611c1c4afb11afce8b0f7e74d559f9169f9c10d1102b1c5917192635829f5cee\n",
      "  Stored in directory: /private/var/folders/0c/dlt_ky9d72dc7kghsg3dnl5c0000gn/T/pip-ephem-wheel-cache-h5f78agp/wheels/6c/b3/58/88e672d24f2aff078c2e107f864146af22028b6c25f48ab13d\n",
      "Successfully built kaggle-notebook-wrapper\n",
      "Installing collected packages: kaggle-notebook-wrapper\n",
      "  Attempting uninstall: kaggle-notebook-wrapper\n",
      "    Found existing installation: kaggle-notebook-wrapper 0.1.0\n",
      "    Uninstalling kaggle-notebook-wrapper-0.1.0:\n",
      "      Successfully uninstalled kaggle-notebook-wrapper-0.1.0\n",
      "Successfully installed kaggle-notebook-wrapper-0.1.0\n",
      "\n",
      "\u001b[1m[\u001b[0m\u001b[34;49mnotice\u001b[0m\u001b[1;39;49m]\u001b[0m\u001b[39;49m A new release of pip is available: \u001b[0m\u001b[31;49m24.0\u001b[0m\u001b[39;49m -> \u001b[0m\u001b[32;49m24.2\u001b[0m\n",
      "\u001b[1m[\u001b[0m\u001b[34;49mnotice\u001b[0m\u001b[1;39;49m]\u001b[0m\u001b[39;49m To update, run: \u001b[0m\u001b[32;49mpip install --upgrade pip\u001b[0m\n",
      "Note: you may need to restart the kernel to use updated packages.\n"
     ]
    }
   ],
   "source": [
    "%pip install git+https://github.com/coding-connor/kaggle-notebook-wrapper.git"
   ]
  },
  {
   "cell_type": "code",
   "execution_count": 1,
   "metadata": {
    "cell_id": 1
   },
   "outputs": [
    {
     "name": "stderr",
     "output_type": "stream",
     "text": [
      "2024-10-07 20:01:51,674 [cell_id: 0] This is a test log message.\n"
     ]
    }
   ],
   "source": [
    "from kaggle_notebook_wrapper.custom_logger import setup_custom_logger\n",
    "\n",
    "log = setup_custom_logger(__name__)\n",
    "\n",
    "log.info(\"This is a test log message.\")"
   ]
  }
 ],
 "metadata": {
  "kernelspec": {
   "display_name": "kaggle-notebook-wrapper-kvoojMVb-py3.11",
   "language": "python",
   "name": "python3"
  },
  "language_info": {
   "codemirror_mode": {
    "name": "ipython",
    "version": 3
   },
   "file_extension": ".py",
   "mimetype": "text/x-python",
   "name": "python",
   "nbconvert_exporter": "python",
   "pygments_lexer": "ipython3",
   "version": "3.11.6"
  }
 },
 "nbformat": 4,
 "nbformat_minor": 2
}
